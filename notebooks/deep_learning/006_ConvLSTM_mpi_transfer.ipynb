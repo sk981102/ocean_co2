{
 "cells": [
  {
   "cell_type": "markdown",
   "id": "012f80e3-065f-4481-8b61-0b16c778386f",
   "metadata": {},
   "source": [
    "## generate previous frames with pCO2 and fit it against ConvLSTM for multiple members"
   ]
  },
  {
   "cell_type": "code",
   "execution_count": null,
   "id": "c7c497b4-9499-4832-aed7-d1c3b9d4b5e9",
   "metadata": {},
   "outputs": [],
   "source": [
    "import matplotlib.pyplot as plt\n",
    "import numpy as np\n",
    "import pandas as pd\n",
    "import xarray as xr\n",
    "import sys\n",
    "import tensorflow as tf\n",
    "from tensorflow import keras\n",
    "import os\n",
    "\n",
    "sys.path.insert(0, '../../src')\n",
    "\n",
    "from utils import df_to_xarray,read_xarray, custom_rmse\n",
    "\n",
    "sys.path.insert(0, '../../src/preprocess')\n",
    "from data_preprocess import preprocess_image_reduced,preprocess_images_nfp, inverse_scale_frame\n",
    "from data_preprocess import preprocess_images, inverse_scale_image, preprocess_image_reduced"
   ]
  },
  {
   "cell_type": "code",
   "execution_count": null,
   "id": "608f7ff1-e153-4853-bc4a-c4592c8f5906",
   "metadata": {},
   "outputs": [],
   "source": [
    "import statsmodels\n",
    "from statsmodels.graphics.tsaplots import plot_acf\n",
    "from statsmodels.graphics.tsaplots import plot_pacf\n",
    "from matplotlib import pyplot\n",
    "\n",
    "\n",
    "print('statsmodels: %s' % statsmodels.__version__)"
   ]
  },
  {
   "cell_type": "markdown",
   "id": "4a7ea67d-8bc2-422f-8c39-0de87dd0ed5c",
   "metadata": {
    "tags": []
   },
   "source": [
    "###  CESM Previous Frame generation"
   ]
  },
  {
   "cell_type": "code",
   "execution_count": null,
   "id": "8115c973-ef73-46a6-b8b7-9142c659c03f",
   "metadata": {},
   "outputs": [],
   "source": [
    "dist_map = pd.read_csv(\"../../src/dist_map.csv\",header=None).to_numpy()\n",
    "dist_map = np.roll(np.fliplr(dist_map),180)\n",
    "dist_map = np.repeat(dist_map[np.newaxis, :, : ], 421, axis=0)\n",
    "\n",
    "def custom_rmse2(y_true, y_pred):\n",
    "    \"\"\"\n",
    "    custom_rmse(y_true, y_pred)\n",
    "    calculates root square mean value with focusing only on the ocean\n",
    "    + difference between sss\n",
    "    \"\"\"\n",
    "    idx  = tf.not_equal(y_true, 0.0)\n",
    "    idx2  = tf.equal(y_true, 0.0)\n",
    "    \n",
    "    y_pred1 = tf.boolean_mask(y_pred,idx)\n",
    "    y_true1 = tf.boolean_mask(y_true,idx)\n",
    "    y_true1 = tf.cast(y_true1, y_pred.dtype)\n",
    "    \n",
    "    \n",
    "    return rmse1\n"
   ]
  },
  {
   "cell_type": "code",
   "execution_count": null,
   "id": "31a572ea-5c8a-4062-ad05-0d655167249a",
   "metadata": {},
   "outputs": [],
   "source": [
    "# Reading Data\n",
    "dir = \"../../data/\"\n",
    "dir_name = \"../../data/member_001\"\n",
    "data_nums = [\"001\", \"002\", \"009\", \"010\", \"011\", \"012\", \"013\", \"014\", \"015\", \"016\", \"017\", \"018\", \"020\",\n",
    "             \"021\", \"023\", \"024\", \"025\", \"030\", \"031\", \"034\", \"035\", \"101\", \"102\", \"103\", \"104\"]\n",
    "\n",
    "X_all = np.empty((0, 180, 360, 5))\n",
    "y_all = np.empty((0, 180, 360))\n",
    "\n",
    "for i in range(5):\n",
    "    dir_name = dir + \"member_\" + str(data_nums[i])\n",
    "    chl,mld,sss,sst,u10,xco2,icefrac,patm,pco2 = read_xarray(dir_name,num =data_nums[i])\n",
    "    \n",
    "    chl_images = preprocess_image_reduced(chl.Chl.data)\n",
    "    sss_images = preprocess_image_reduced(sss.SSS.data)\n",
    "    sst_images = preprocess_image_reduced(sst.SST.data)\n",
    "    mld_images = preprocess_image_reduced(mld.MLD.data)\n",
    "    xco2_images = preprocess_image_reduced(xco2.XCO2.data,xco2=True)\n",
    "    y1 = preprocess_image_reduced(pco2.pCO2.data)\n",
    "    dist_map = preprocess_image_reduced(dist_map)\n",
    "    X1 = np.dstack((chl_images, dist_map, sss_images, sst_images, xco2_images))\n",
    "    #X1 = np.dstack((chl_images, mld_images, sss_images, sst_images, xco2_images))\n",
    "    X1 = X1.reshape((421,180,360,5),order='F')\n",
    "    \n",
    "    X_all = np.concatenate((X_all, X1))\n",
    "    y_all = np.concatenate((y_all, y1))\n"
   ]
  },
  {
   "cell_type": "code",
   "execution_count": null,
   "id": "e231214a-a785-4872-8145-610401a04b12",
   "metadata": {},
   "outputs": [],
   "source": [
    "INPUT_SHAPE=X_all[0].shape\n",
    "OUTPUT_SHAPE=y_all[0].shape\n",
    "\n",
    "INPUT_SHAPE, X_all.shape, y_all.shape"
   ]
  },
  {
   "cell_type": "markdown",
   "id": "adea77c5-9eca-4d23-adfc-860398ab961b",
   "metadata": {
    "jp-MarkdownHeadingCollapsed": true,
    "tags": []
   },
   "source": [
    "#### train"
   ]
  },
  {
   "cell_type": "code",
   "execution_count": null,
   "id": "a71dcf66-0fb2-475f-830f-4e0e44cec5ac",
   "metadata": {},
   "outputs": [],
   "source": [
    "from functools import partial\n",
    "\n",
    "DefaultConv2D = partial(keras.layers.Conv2D,\n",
    "                        kernel_size=5,activation='elu',\n",
    "                        padding=\"SAME\")\n",
    "\n",
    "base_model = keras.models.Sequential([\n",
    "    DefaultConv2D(filters=32, input_shape=INPUT_SHAPE),\n",
    "    DefaultConv2D(filters=32),\n",
    "    keras.layers.MaxPooling2D(pool_size=3),\n",
    "    keras.layers.Dropout(0.2),\n",
    "    DefaultConv2D(filters=64),\n",
    "    DefaultConv2D(filters=64),\n",
    "    keras.layers.MaxPooling2D(pool_size=3),\n",
    "    keras.layers.Dropout(0.2),\n",
    "    DefaultConv2D(filters=128),\n",
    "    DefaultConv2D(filters=128),\n",
    "    keras.layers.UpSampling2D(size=3),\n",
    "    DefaultConv2D(filters=64),\n",
    "    DefaultConv2D(filters=64),\n",
    "    keras.layers.Dropout(0.2),\n",
    "    keras.layers.UpSampling2D(size=3),\n",
    "    DefaultConv2D(filters=32),\n",
    "    DefaultConv2D(filters=2),\n",
    "    DefaultConv2D(filters=1,kernel_size=1),\n",
    "    keras.layers.Reshape(OUTPUT_SHAPE)\n",
    "])\n",
    "\n",
    "myLearnRate=0.0005\n",
    "custom_opt = tf.keras.optimizers.Adam(learning_rate=myLearnRate)\n",
    "\n",
    "#rmse 13\n",
    "\n",
    "\n",
    "\n",
    "base_model.compile(loss=custom_rmse, optimizer=custom_opt)"
   ]
  },
  {
   "cell_type": "code",
   "execution_count": null,
   "id": "d4ba4bec-c490-46fe-9724-efbf9f55cdb5",
   "metadata": {},
   "outputs": [],
   "source": [
    "\n",
    "\n",
    "model_path=\"../../models/base_model/u_net_dist.h5\"\n",
    "\n",
    "early_stopings = tf.keras.callbacks.EarlyStopping(monitor='val_loss', min_delta=0, patience=10, verbose=1, mode='min')\n",
    "checkpoint =  tf.keras.callbacks.ModelCheckpoint(model_path, monitor='val_loss', save_best_only=True, mode='min', verbose=0)\n",
    "callbacks=[early_stopings,checkpoint]\n",
    "\n",
    "history = base_model.fit(X_all,y_all, epochs=200, \n",
    "                         validation_data=(X_all,y_all),\n",
    "                         workers=-1,batch_size=16,\n",
    "                         callbacks=callbacks)\n",
    "\n",
    "\n"
   ]
  },
  {
   "cell_type": "markdown",
   "id": "b3aecdba-4cf2-4f0c-b0a9-a4edf26494de",
   "metadata": {},
   "source": [
    "#### load model"
   ]
  },
  {
   "cell_type": "code",
   "execution_count": null,
   "id": "7e8ce0bf-2eba-4951-8d10-4d0e6892b2a0",
   "metadata": {},
   "outputs": [],
   "source": [
    "cnn_model = tf.keras.models.load_model('../../models/base_model/u_net_dist_final.h5', custom_objects={'custom_rmse':custom_rmse})\n",
    "predicted_image= cnn_model.predict(X_all,verbose=1)\n",
    "predicted_image[y_all==0]=0.0"
   ]
  },
  {
   "cell_type": "code",
   "execution_count": null,
   "id": "b72f3417-64a5-4766-89ba-b5dbfcff625a",
   "metadata": {},
   "outputs": [],
   "source": [
    "plt.hist(predicted_image.flatten())"
   ]
  },
  {
   "cell_type": "code",
   "execution_count": null,
   "id": "9391fcdf-da2b-4d38-90df-93297fa31034",
   "metadata": {},
   "outputs": [],
   "source": [
    "print(custom_rmse(predicted_image,y_all))"
   ]
  },
  {
   "cell_type": "code",
   "execution_count": null,
   "id": "5f4e04ba-ab19-4f29-b92c-69eef6b0d926",
   "metadata": {},
   "outputs": [],
   "source": [
    "\n",
    "y_true_all = np.empty((0,180,360))\n",
    "y_pred_all = np.empty((0,180,360))\n",
    "\n",
    "\n",
    "for i in range(3):\n",
    "    tmp = i+1\n",
    "    dir_name = dir + \"member_\" + str(data_nums[i])\n",
    "    chl,mld,sss,sst,u10,xco2,icefrac,patm,pco2t2 = read_xarray(dir_name,num =data_nums[i])\n",
    "    y_true,y_pred = inverse_scale_image(predicted_image[421*(tmp-1):421*tmp],pco2t2.pCO2.data)\n",
    "    y_true_all = np.concatenate((y_true_all, y_true))\n",
    "    y_pred_all = np.concatenate((y_pred_all, y_pred))\n",
    "\n",
    "\n",
    "print(\"y_shapes:\", y_true_all.shape, y_pred_all.shape)\n",
    "print(\"Full RMSE score:\")\n",
    "a=custom_rmse(y_pred_all,y_true_all)\n",
    "print(a.numpy())\n"
   ]
  },
  {
   "cell_type": "markdown",
   "id": "508f881b-211e-410a-8431-ce8d304e538e",
   "metadata": {
    "tags": []
   },
   "source": [
    "### Using the prediction as input in ConvLSTM"
   ]
  },
  {
   "cell_type": "code",
   "execution_count": null,
   "id": "523ddf86-ab51-40c5-a699-a28f54f6d0c9",
   "metadata": {},
   "outputs": [],
   "source": [
    "X_all_conv = np.empty((0, 3, 180, 360, 6))\n",
    "y_all_conv = np.empty((0, 3, 180, 360, 1))\n",
    "X_index=np.lib.stride_tricks.sliding_window_view(range(421),3)\n",
    "\n",
    "tmp = 1\n",
    "\n",
    "for i in range(5):\n",
    "    dir_name = dir + \"member_\" + str(data_nums[i])\n",
    "    chl,mld,sss,sst,u10,xco2,icefrac,patm,pco2 = read_xarray(dir_name,num=data_nums[i])\n",
    "\n",
    "    chl_images = preprocess_image_reduced(chl.Chl.data)\n",
    "    sss_images = preprocess_image_reduced(sss.SSS.data)\n",
    "    sst_images = preprocess_image_reduced(sst.SST.data)\n",
    "    xco2_images = preprocess_image_reduced(xco2.XCO2.data,xco2=True)\n",
    "    pco2 = preprocess_image_reduced(pco2.pCO2.data)\n",
    "    dist_map = preprocess_image_reduced(dist_map)\n",
    "    \n",
    "    y = np.expand_dims(pco2[X_index][1:], axis=4)\n",
    "    \n",
    "    X = np.dstack((chl_images, dist_map, sss_images, sst_images, xco2_images,predicted_image[421*(tmp-1):421*tmp]))\n",
    "    tmp+=1\n",
    "    X = X.reshape((421,180,360,6),order='F')\n",
    "    X = X[X_index][:-1]\n",
    "    \n",
    "    X_all_conv = np.concatenate((X_all_conv, X))\n",
    "    y_all_conv = np.concatenate((y_all_conv, y))\n",
    "\n",
    "\n",
    "shuffle_ind = (np.arange(X_all_conv.shape[0]))\n",
    "np.random.shuffle(shuffle_ind)\n",
    "X_all_conv = np.array(X_all_conv)[shuffle_ind.astype(int)]\n",
    "y_all_conv = np.array(y_all_conv)[shuffle_ind.astype(int)]\n",
    "\n",
    "X_all_conv.shape, y_all_conv.shape"
   ]
  },
  {
   "cell_type": "code",
   "execution_count": null,
   "id": "d3fb0760-0401-46e9-9796-0c93232aceab",
   "metadata": {},
   "outputs": [],
   "source": [
    "plt.hist(y_all_conv.flatten())"
   ]
  },
  {
   "cell_type": "code",
   "execution_count": null,
   "id": "ee5ad845-5342-46c1-8bec-500e0463b85f",
   "metadata": {},
   "outputs": [],
   "source": [
    "INPUT_SHAPE=X_all_conv[0].shape\n",
    "OUTPUT_SHAPE=y_all_conv[0].shape\n",
    "\n",
    "INPUT_SHAPE"
   ]
  },
  {
   "cell_type": "markdown",
   "id": "5397ccfa-7585-4ad8-a938-5423ace51d94",
   "metadata": {
    "tags": []
   },
   "source": [
    "#### Train"
   ]
  },
  {
   "cell_type": "code",
   "execution_count": null,
   "id": "dc371398-7716-4629-afc6-a683bed25845",
   "metadata": {},
   "outputs": [],
   "source": [
    "tf.keras.backend.clear_session()\n",
    "from functools import partial\n",
    "\n",
    "\n",
    "DefaultConvLSTM2D = partial(keras.layers.ConvLSTM2D,\n",
    "                        filters=32, kernel_size=(5, 5),\n",
    "                        padding=\"same\",return_sequences=True,\n",
    "                        activation=\"elu\",)\n",
    "\n",
    "\n",
    "\n",
    "model = keras.models.Sequential([\n",
    "    DefaultConvLSTM2D(input_shape=INPUT_SHAPE),\n",
    "    keras.layers.BatchNormalization(),\n",
    "    DefaultConvLSTM2D(kernel_size=(5,5)),\n",
    "    keras.layers.BatchNormalization(),\n",
    "    DefaultConvLSTM2D(kernel_size=(3,3)),\n",
    "    keras.layers.BatchNormalization(),\n",
    "    DefaultConvLSTM2D(kernel_size=(1,1)),\n",
    "    keras.layers.Conv3D(filters = 1, kernel_size=(3,3,3),activation=\"elu\", padding=\"same\")\n",
    "    \n",
    "])\n",
    "\n",
    "\n",
    "model.compile(\n",
    "    loss=custom_rmse, optimizer=keras.optimizers.Adam(\n",
    "        learning_rate=0.001,\n",
    "        beta_1=0.9,\n",
    "        beta_2=0.99),\n",
    ")"
   ]
  },
  {
   "cell_type": "code",
   "execution_count": null,
   "id": "ea01f1e3-cb02-4728-86d0-df457a1ab24f",
   "metadata": {},
   "outputs": [],
   "source": [
    "model_path=\"../../models/ConvLSTM_with_pco2_2.h5\""
   ]
  },
  {
   "cell_type": "code",
   "execution_count": null,
   "id": "82eb2a2f-9b6c-445a-a6ac-b2de8514f04a",
   "metadata": {
    "scrolled": true
   },
   "outputs": [],
   "source": [
    "# Training...\n",
    "\n",
    "# early_stopings = tf.keras.callbacks.EarlyStopping(monitor='val_loss', min_delta=0, patience=6, verbose=1, mode='min')\n",
    "# checkpoint =  tf.keras.callbacks.ModelCheckpoint(model_path, monitor='val_loss', save_best_only=True, mode='min', verbose=0)\n",
    "# callbacks=[early_stopings,checkpoint]\n",
    "\n",
    "# epochs = 100\n",
    "# batch_size = 16\n",
    "\n",
    "# # Fit the model to the training data.\n",
    "# hist = model.fit(\n",
    "#     X_all_conv,\n",
    "#     y_all_conv,\n",
    "#     batch_size=batch_size,\n",
    "#     epochs=epochs,\n",
    "#     validation_data=(X_all_conv,y_all_conv),\n",
    "#     callbacks=callbacks,\n",
    "# )"
   ]
  },
  {
   "cell_type": "code",
   "execution_count": null,
   "id": "b9f52c67-4db3-4db4-b93e-83d1918f894a",
   "metadata": {},
   "outputs": [],
   "source": [
    "# the masking continents for continent works better for pretrained model"
   ]
  },
  {
   "cell_type": "markdown",
   "id": "99c3b8a1-f3bb-4087-863b-1d1afa12ab0f",
   "metadata": {},
   "source": [
    "### Result for CONVLSTM"
   ]
  },
  {
   "cell_type": "code",
   "execution_count": null,
   "id": "6e8e7d13-e411-4963-9b4e-25dbbb397701",
   "metadata": {},
   "outputs": [],
   "source": [
    "def inverse_scale_image_nfp(arr, df):\n",
    "    \"\"\"\n",
    "    inverse_scale_image(arr, df):\n",
    "    - inverses the pco2 scaling\n",
    "    \"\"\"\n",
    "    \n",
    "    old_min = np.nanmin(df)\n",
    "    old_max = np.nanmax(df)\n",
    "\n",
    "    y_pred = arr*(old_max-old_min)/255+old_min\n",
    "    \n",
    "    tmp=np.nan_to_num(df[X_index][1:])\n",
    "    y_true=np.expand_dims(tmp,axis=4)\n",
    "    y_pred[y_true==0]=0\n",
    "    return y_true,y_pred"
   ]
  },
  {
   "cell_type": "code",
   "execution_count": null,
   "id": "ee68a6b8-f1ec-42c8-9aab-4e62252bccdd",
   "metadata": {},
   "outputs": [],
   "source": [
    "convlstm_model_path = \"../../models/ConvLSTM_with_pco2_2.h5\"\n",
    "convlstm_model = tf.keras.models.load_model(convlstm_model_path, custom_objects={'custom_rmse':custom_rmse})"
   ]
  },
  {
   "cell_type": "code",
   "execution_count": null,
   "id": "2cdf4035-1e98-481b-8f91-18c8fae0b7ef",
   "metadata": {},
   "outputs": [],
   "source": [
    "\n",
    "dir_name = \"../../data/member_001\"\n",
    "chl,mld,sss,sst,u10,xco2,icefrac,patm,pco2t2 = read_xarray(\n",
    "    dir_name)\n",
    "\n",
    "tmp = np.nan_to_num(pco2t2.pCO2.data[X_index][1:])\n",
    "\n",
    "y_true_full = np.expand_dims(tmp,axis=4)\n",
    "print(y_true_full.shape)\n",
    "coord = (y_true_full==0.0)\n",
    "\n",
    "chl_images = preprocess_image_reduced(chl.Chl.data)\n",
    "sss_images = preprocess_image_reduced(sss.SSS.data)\n",
    "sst_images = preprocess_image_reduced(sst.SST.data)\n",
    "mld_images = preprocess_image_reduced(mld.MLD.data)\n",
    "xco2_images = preprocess_image_reduced(xco2.XCO2.data,xco2=True)\n",
    "y1 = preprocess_image_reduced(pco2t2.pCO2.data)\n",
    "dist_map = preprocess_image_reduced(dist_map)\n",
    "X1 = np.dstack((chl_images, dist_map, sss_images, sst_images, xco2_images))\n",
    "X1 = X1.reshape((421,180,360,5),order='F')\n",
    "\n",
    "predicted_image= cnn_model.predict(X1,verbose=1)\n",
    "predicted_image[y1==0]=0.0\n",
    "\n",
    "\n",
    "X_tmp = np.dstack((chl_images, dist_map, sss_images, sst_images, xco2_images,predicted_image))\n",
    "X_tmp= X_tmp.reshape((421,180,360,6),order='F')\n",
    "\n",
    "\n",
    "X2 = X_tmp[X_index][:-1]\n",
    "\n",
    "X2.shape"
   ]
  },
  {
   "cell_type": "code",
   "execution_count": null,
   "id": "866bce0a-0020-4ef1-b9bb-ac90cbbe8e8e",
   "metadata": {},
   "outputs": [],
   "source": [
    "predicted_frames = convlstm_model.predict(X2)\n",
    "\n",
    "y_true,y_pred=inverse_scale_image_nfp(predicted_frames,pco2t2.pCO2.data)  \n",
    "y_pred[coord]=0.0\n",
    "y_true[coord]=0.0\n",
    "\n",
    "print(\"Full RMSE score:\")\n",
    "a=custom_rmse(y_true[:,2],y_pred[:,2])\n",
    "print(a)\n"
   ]
  },
  {
   "cell_type": "code",
   "execution_count": null,
   "id": "8442e1d6-0cb2-48b9-87ad-077745294d1d",
   "metadata": {},
   "outputs": [],
   "source": [
    "plt.imshow(y_pred[0][2])"
   ]
  },
  {
   "cell_type": "code",
   "execution_count": null,
   "id": "39fa2631-115f-4598-b8a1-9d77114ba83c",
   "metadata": {},
   "outputs": [],
   "source": [
    "# y1=y1[X_index][:-1]\n",
    "y1 = np.expand_dims(y1,axis=4)\n",
    "\n",
    "\n",
    "y1.shape"
   ]
  },
  {
   "cell_type": "code",
   "execution_count": null,
   "id": "97d83745-11ee-4d1e-a01d-ffe74ad2eafe",
   "metadata": {},
   "outputs": [],
   "source": [
    "predicted_frames.shape"
   ]
  },
  {
   "cell_type": "code",
   "execution_count": null,
   "id": "2677c9d7-db27-4d08-81ca-2142cb548e15",
   "metadata": {},
   "outputs": [],
   "source": [
    "predicted_frames[:,1].shape"
   ]
  },
  {
   "cell_type": "code",
   "execution_count": null,
   "id": "69e94f24-8adb-468a-ae95-60c7763e554b",
   "metadata": {},
   "outputs": [],
   "source": [
    "y1[coord]=np.nan\n",
    "predicted_frames[coord]=np.nan\n",
    "\n",
    "res = y1[:,1]-predicted_frames[:,1]\n",
    "\n",
    "avg_time_res_convlstm=np.nanmean(res, axis=(1,2,3))\n",
    "print(avg_time_res_convlstm.shape)\n",
    "\n",
    "fig = pyplot.figure(figsize = (10,10))\n",
    "pyplot.subplot(211)\n",
    "plot_acf(avg_time_res_convlstm, ax=pyplot.gca())\n",
    "pyplot.subplot(212)\n",
    "plot_pacf(avg_time_res_convlstm, ax=pyplot.gca())\n",
    "\n",
    "fig.suptitle(\"Residual ACF & PACF for ConvLSTM 3 month- CESM\")\n",
    "\n",
    "plt.savefig(\"../../assets/figure7_convLSTM_cesm_acf_3mon.jpg\")\n",
    "pyplot.show()"
   ]
  },
  {
   "cell_type": "code",
   "execution_count": null,
   "id": "f0c40f68-3ce5-48a6-b1f7-fdcdd26b321d",
   "metadata": {},
   "outputs": [],
   "source": [
    "plt.plot(avg_time_res_convlstm)"
   ]
  },
  {
   "cell_type": "markdown",
   "id": "2f6dff83-93b2-4212-af75-cf151bcc458d",
   "metadata": {
    "tags": []
   },
   "source": [
    "## transfer learning on MPI"
   ]
  },
  {
   "cell_type": "markdown",
   "id": "89c75a83-00e9-4047-9393-c2b0f43465af",
   "metadata": {
    "tags": []
   },
   "source": [
    "### Setting up"
   ]
  },
  {
   "cell_type": "code",
   "execution_count": null,
   "id": "8fdbcd12-a840-42d8-b1bc-3e414f01d569",
   "metadata": {},
   "outputs": [],
   "source": [
    "# CNN on MPI\n",
    "cnn_model_path=\"../../models/base_model/u_net_dist.h5\"\n",
    "cnn_model = tf.keras.models.load_model(cnn_model_path, custom_objects={'custom_rmse':custom_rmse})\n",
    "\n",
    "mpi_data_path = \"../../data/mpi_001\"\n",
    "\n",
    "\n",
    "def read_xarray_mpi(dir_name=\"\",num=\"006\"):\n",
    "    '''\n",
    "     read_xarray(dir)name) opens data and returns data in xarray format for each feature mpi\n",
    "    '''\n",
    "    date=\"198201-201701\"\n",
    "  \n",
    "    file_type =\"MPI\"\n",
    "        \n",
    "    chl = xr.open_dataset(f'{dir_name}/Chl_2D_mon_{file_type}{num}_1x1_{date}.nc')\n",
    "\n",
    "    mld = xr.open_dataset(f'{dir_name}/MLD_2D_mon_{file_type}{num}_1x1_{date}.nc')\n",
    "\n",
    "    sss = xr.open_dataset(f'{dir_name}/SSS_2D_mon_{file_type}{num}_1x1_{date}.nc')\n",
    "\n",
    "    sst = xr.open_dataset(f'{dir_name}/SST_2D_mon_{file_type}{num}_1x1_{date}.nc')\n",
    "\n",
    "    xco2 = xr.open_dataset(f'../../data/member_001/XCO2_1D_mon_CESM001_native_198201-201701.nc')\n",
    "\n",
    "    pco2 = xr.open_dataset(f'{dir_name}/pCO2_2D_mon_{file_type}{num}_1x1_{date}.nc')\n",
    "\n",
    "    return chl,mld,sss,sst,xco2,pco2\n",
    "\n",
    "\n",
    "chl,mld,sss,sst,xco2,pco2 = read_xarray_mpi(mpi_data_path)\n",
    "chl_images = preprocess_image_reduced(chl.Chl.data)\n",
    "sss_images = preprocess_image_reduced(sss.SSS.data)\n",
    "sst_images = preprocess_image_reduced(sst.SST.data)\n",
    "mld_images = preprocess_image_reduced(mld.MLD.data)\n",
    "xco2_images = preprocess_image_reduced(xco2.XCO2.data,xco2=True)\n",
    "\n",
    "def pco2_socat_preprocess(arr):\n",
    "    nans=np.isnan(arr)\n",
    "    min_val=arr[~nans].min()\n",
    "    arr[nans]=min_val\n",
    "    return arr\n",
    "        \n",
    "pco2_socat_images = pco2_socat_preprocess(pco2.pCO2_socat.data)\n",
    "\n",
    "dist_map = preprocess_image_reduced(dist_map)\n",
    "    \n",
    "X_tf = np.dstack((chl_images, dist_map, sss_images, sst_images, xco2_images))\n",
    "y_tf = pco2_socat_images\n",
    "X_tf = X_tf.reshape((421,180,360,5),order='F')\n",
    "# penalize smaller variance\n"
   ]
  },
  {
   "cell_type": "code",
   "execution_count": null,
   "id": "2aad1a70-d538-4bda-9d2c-1fcb10b5585c",
   "metadata": {},
   "outputs": [],
   "source": [
    "np.min(pco2_socat_images), np.max(pco2_socat_images)"
   ]
  },
  {
   "cell_type": "code",
   "execution_count": null,
   "id": "d71fd42e-7c8c-4988-bc90-13a6a45f5e39",
   "metadata": {},
   "outputs": [],
   "source": [
    "# without tf performance\n",
    "# y_tf=cnn_model.predict(X_tf)\n",
    "# y_true,y_pred=inverse_scale_image(y_tf,pco2.pCO2.data)\n",
    "# custom_rmse(y_true,y_pred)"
   ]
  },
  {
   "cell_type": "code",
   "execution_count": null,
   "id": "553009d6-f11b-4b33-bb85-6c54bc7472a5",
   "metadata": {},
   "outputs": [],
   "source": [
    "# transfer learning\n",
    "for layer in cnn_model.layers[:-4]:\n",
    "    layer.trainable = False\n",
    "\n",
    "cnn_model.summary()"
   ]
  },
  {
   "cell_type": "code",
   "execution_count": null,
   "id": "3cb75579-8aed-4093-bbb3-2ebedf2d4b2f",
   "metadata": {},
   "outputs": [],
   "source": [
    "from tensorflow.keras import backend as K\n",
    "\n",
    "tf.keras.backend.clear_session()\n",
    "\n",
    "\n",
    "myLearnRate=0.001\n",
    "\n",
    "cnn_model.compile(\n",
    "    loss=custom_rmse2, optimizer=keras.optimizers.Adam(learning_rate=myLearnRate),\n",
    ")\n",
    "\n",
    "model_path=\"../../models/transfer_CNN.h5\"\n",
    "\n",
    "early_stopings = tf.keras.callbacks.EarlyStopping(monitor='val_loss', min_delta=0, patience=10, verbose=1, mode='min')\n",
    "checkpoint =  tf.keras.callbacks.ModelCheckpoint(model_path, monitor='val_loss', save_best_only=True, mode='min', verbose=0)\n",
    "callbacks=[early_stopings,checkpoint]\n",
    "\n",
    "history = cnn_model.fit(X_tf,y_tf, epochs=200, \n",
    "                         validation_data=(X_tf,y_tf),\n",
    "                         workers=-1,batch_size=64,\n",
    "                         callbacks=callbacks)"
   ]
  },
  {
   "cell_type": "code",
   "execution_count": null,
   "id": "d15c0c89-379a-4421-8e5f-e9e689ab797c",
   "metadata": {},
   "outputs": [],
   "source": [
    "#cnn_model = tf.keras.models.load_model('../../models/transfer_CNN_2.h5', custom_objects={'custom_rmse':custom_rmse})\n",
    "cnn_model = tf.keras.models.load_model('../../models/transfer_CNN.h5', custom_objects={'custom_rmse2':custom_rmse2})\n",
    "\n",
    "predicted_image = cnn_model.predict(X_tf,verbose=1)\n",
    "\n",
    "chl,mld,sss,sst,xco2,pco2 = read_xarray_mpi(mpi_data_path)\n",
    "coord = np.isnan(pco2.pCO2.data)\n",
    "# previous frame with continent masked or not masked?\n",
    "predicted_image[coord] = 0\n",
    "\n",
    "full_truth = pco2.pCO2.data\n",
    "full_truth[coord] = 0"
   ]
  },
  {
   "cell_type": "code",
   "execution_count": null,
   "id": "e54a8a2d-799a-4f71-b7c3-7c51c7af1b0d",
   "metadata": {},
   "outputs": [],
   "source": [
    "custom_rmse(predicted_image,full_truth)"
   ]
  },
  {
   "cell_type": "markdown",
   "id": "ce52cec0-74b7-4d30-b884-586393aada77",
   "metadata": {
    "tags": []
   },
   "source": [
    "### MPI UNET GRAPHS"
   ]
  },
  {
   "cell_type": "code",
   "execution_count": null,
   "id": "a6e8e609-2b07-4204-860c-f99c36884ba0",
   "metadata": {},
   "outputs": [],
   "source": [
    "y_pred_unet=predicted_image\n",
    "y_true_unet=full_truth\n",
    "\n",
    "y_true_unet[coord] = np.nan\n",
    "y_pred_unet[coord] = np.nan\n",
    "res= y_true_unet-y_pred_unet\n",
    "\n",
    "avg_time_res=np.nanmean(res, axis=(1,2))\n",
    "avg_time_res.shape\n",
    "\n",
    "fig = pyplot.figure(figsize = (10,10))\n",
    "pyplot.subplot(211)\n",
    "plot_acf(avg_time_res, ax=pyplot.gca())\n",
    "pyplot.subplot(212)\n",
    "plot_pacf(avg_time_res, ax=pyplot.gca())\n",
    "\n",
    "fig.suptitle(\"Residual ACF & PACF for UNET - MPI\")\n",
    "\n",
    "plt.savefig(\"../../assets/figure7_unet_mpi_acf.jpg\")\n",
    "pyplot.show()"
   ]
  },
  {
   "cell_type": "code",
   "execution_count": null,
   "id": "ec3aa0d9-e6f2-4abf-9f2e-0330870adee3",
   "metadata": {},
   "outputs": [],
   "source": [
    "# CNN average Image\n",
    "import cmocean as cm\n",
    "import matplotlib.colors as mcolors\n",
    "from mpl_toolkits.axes_grid1 import make_axes_locatable\n",
    "\n",
    "full_truth[coord] = np.nan\n",
    "predicted_image[coord] = np.nan\n",
    "\n",
    "res_unet = full_truth - predicted_image\n",
    "\n",
    "avg_y_true = np.mean(full_truth,axis=0)\n",
    "avg_y_pred = np.mean(predicted_image,axis=0)\n",
    "avg_res = np.mean(res_unet,axis=0)\n",
    "\n",
    "figure, axis = plt.subplots(1, 3,figsize=(42, 8))\n",
    "\n",
    "plt.rcParams.update({'font.size': 22})\n",
    "norm = mcolors.Normalize(vmin=280, vmax = 440)\n",
    "norm2 = mcolors.TwoSlopeNorm(vmin=-100, vmax = 100, vcenter=0)\n",
    "\n",
    "im0 = axis[0].imshow(np.flipud(avg_y_true),cmap = cm.cm.thermal,norm=norm,label=\"pCO2\")\n",
    "axis[0].set_title(\"Avg. pCO2\")\n",
    "\n",
    "divider = make_axes_locatable(axis[0])\n",
    "cax = divider.append_axes('right', size='2%', pad=0.15)\n",
    "cbar=figure.colorbar(im0, cax=cax, orientation='vertical')\n",
    "cbar.ax.get_yaxis().labelpad = 20\n",
    "cbar.ax.set_ylabel('pCO2', rotation=270)\n",
    "cbar.set_ticklabels(np.arange(280,440,20))\n",
    "\n",
    "\n",
    "im1 =axis[1].imshow(np.flipud(avg_y_pred),cmap = cm.cm.thermal,norm=norm,label=\"pCO2 pred\")\n",
    "axis[1].set_title(\"Avg. UNET Prediction\")\n",
    "\n",
    "divider = make_axes_locatable(axis[1])\n",
    "cax = divider.append_axes('right', size='2%', pad=0.15)\n",
    "cbar2=figure.colorbar(im1, cax=cax, orientation='vertical')\n",
    "cbar2.ax.get_yaxis().labelpad = 20\n",
    "cbar2.ax.set_ylabel('pred', rotation=270)\n",
    "cbar2.set_ticklabels(np.arange(280,440,20))\n",
    "\n",
    "\n",
    "im2=axis[2].imshow(np.flipud(avg_res),cmap = \"RdBu\",norm=norm2,label=\"residual\")\n",
    "axis[2].set_title(\"Avg. Residual\")\n",
    "\n",
    "divider = make_axes_locatable(axis[2])\n",
    "cax = divider.append_axes('right', size='2%', pad=0.15)\n",
    "cbar3=figure.colorbar(im2, cax=cax, orientation='vertical')\n",
    "cbar3.ax.get_yaxis().labelpad = 20\n",
    "cbar3.ax.set_ylabel('residual', rotation=270)\n",
    "#cbar3.set_ticklabels(np.arange(-100,100,20))\n",
    "\n",
    "\n",
    "figure.suptitle(\"Average MPI Transfer Learning pCO2 | Prediction | Residual - over 1987/02-2017/01\")\n",
    "\n",
    "plt.savefig(\"../../assets/figure6.0_unet_mpi.jpg\")"
   ]
  },
  {
   "cell_type": "markdown",
   "id": "43895923-f540-4719-962f-a6ce343edfb7",
   "metadata": {
    "tags": []
   },
   "source": [
    "### MPI: CONVLSTM"
   ]
  },
  {
   "cell_type": "code",
   "execution_count": null,
   "id": "50f90094-5d63-43a3-99d6-84d9ff58dc67",
   "metadata": {},
   "outputs": [],
   "source": [
    "X_index=np.lib.stride_tricks.sliding_window_view(range(421),3)\n",
    "X = np.dstack((chl_images, dist_map, sss_images, sst_images, xco2_images,predicted_image))\n",
    "X = X.reshape((421,180,360,6),order='F')\n",
    "X = X[X_index][:-1]\n",
    "\n",
    "y_tf=np.expand_dims(y_tf[X_index][1:],axis=4)"
   ]
  },
  {
   "cell_type": "code",
   "execution_count": null,
   "id": "99f7de44-f8a7-4876-8cf3-0c787f45aba7",
   "metadata": {},
   "outputs": [],
   "source": [
    "X.shape, y_tf.shape # changed sliding"
   ]
  },
  {
   "cell_type": "code",
   "execution_count": null,
   "id": "467c3bc6-bd4c-44be-8e9d-b2aac3726c08",
   "metadata": {},
   "outputs": [],
   "source": [
    "tf.keras.backend.clear_session()\n",
    "\n",
    "convlstm_model_path = \"../../models/ConvLSTM_with_pco2_2.h5\"\n",
    "convlstm_model = tf.keras.models.load_model(convlstm_model_path, custom_objects={'custom_rmse':custom_rmse})\n"
   ]
  },
  {
   "cell_type": "code",
   "execution_count": null,
   "id": "deafc284-f24c-48f8-ae9e-b372e4732f50",
   "metadata": {},
   "outputs": [],
   "source": [
    "chl,mld,sss,sst,xco2,pco2t2 = read_xarray_mpi(mpi_data_path)\n",
    "\n",
    "\n",
    "tmp = np.nan_to_num(pco2t2.pCO2.data[X_index][1:])\n",
    "y_true_full = np.expand_dims(tmp,axis=4)\n",
    "y_true_full.shape\n",
    "\n",
    "coord = (y_true_full==0.0)\n",
    "\n",
    "predicted_frames= convlstm_model.predict(X,verbose=1)\n",
    "predicted_frames[coord] = 0\n",
    "\n",
    "print(\"ConvLSTM Full RMSE score w/o finetuning:\")\n",
    "a=custom_rmse(predicted_frames[:,1:2],y_true_full[:,1:2])\n",
    "print(a)"
   ]
  },
  {
   "cell_type": "code",
   "execution_count": null,
   "id": "55efd202-8c9c-4ff9-b4b1-960490c1a962",
   "metadata": {},
   "outputs": [],
   "source": [
    "for layer in convlstm_model.layers[:-2]:\n",
    "    layer.trainable = False\n",
    "\n",
    "    # -3 96uatm\n",
    "convlstm_model.summary()"
   ]
  },
  {
   "cell_type": "code",
   "execution_count": null,
   "id": "36adbb2d-b7cf-4b4e-912c-a926d9280859",
   "metadata": {},
   "outputs": [],
   "source": [
    "convlstm_model.compile(\n",
    "    loss=custom_rmse, optimizer=keras.optimizers.Adam(learning_rate=1e-3),\n",
    ")\n",
    "\n",
    "model_path=\"../../models/transfer_CNN_LSTM.h5\"\n",
    "\n",
    "early_stopings = tf.keras.callbacks.EarlyStopping(monitor='val_loss', min_delta=0, patience=5, verbose=1, mode='min')\n",
    "checkpoint =  tf.keras.callbacks.ModelCheckpoint(model_path, monitor='val_loss', save_best_only=True, mode='min', verbose=0)\n",
    "callbacks=[early_stopings,checkpoint]\n",
    "\n",
    "epochs = 50\n",
    "batch_size = 16"
   ]
  },
  {
   "cell_type": "code",
   "execution_count": null,
   "id": "98f6b1ac-ab2f-447b-a5a4-24704af328bc",
   "metadata": {},
   "outputs": [],
   "source": [
    "history = convlstm_model.fit(\n",
    "    X,\n",
    "    y_tf,\n",
    "    batch_size=batch_size,\n",
    "    epochs=epochs,\n",
    "    validation_data=(X, y_tf),\n",
    "    callbacks=callbacks,\n",
    ")"
   ]
  },
  {
   "cell_type": "code",
   "execution_count": null,
   "id": "c4ad4782-f70c-4de7-8017-243cca9b0fcf",
   "metadata": {},
   "outputs": [],
   "source": [
    "chl,mld,sss,sst,xco2,pco2t2 = read_xarray_mpi(mpi_data_path)\n",
    "\n",
    "tmp = np.nan_to_num(pco2t2.pCO2.data[X_index][1:])\n",
    "y_true_full = np.expand_dims(tmp,axis=4)\n",
    "y_true_full.shape\n",
    "\n",
    "coord = ((y_true_full==0.0)|(y_true_full>650))"
   ]
  },
  {
   "cell_type": "code",
   "execution_count": null,
   "id": "5bf3a625-3390-4b73-8ccd-9b456c830ff3",
   "metadata": {},
   "outputs": [],
   "source": [
    "tf_model = tf.keras.models.load_model(\"../../models/transfer_CNN_LSTM.h5\", custom_objects={'custom_rmse':custom_rmse})\n",
    "\n",
    "predicted_frames= tf_model.predict(X,verbose=1)\n",
    "predicted_frames[coord] = 0\n",
    "\n",
    "print(\"Full RMSE score:\")\n",
    "a=custom_rmse(predicted_frames[:,1:2],y_true_full[:,1:2])\n",
    "print(a)\n",
    "\n",
    "# with continent masked from previous frame RMSE : 33.09\n",
    "# without continent masked from previous frame RMSE: 32.29\n",
    "## - noticed it converges faster\n",
    "## not much difference"
   ]
  },
  {
   "cell_type": "markdown",
   "id": "e16da77b-d7a5-42b7-86b5-4a79c6892e77",
   "metadata": {
    "tags": []
   },
   "source": [
    "### MPI ConvLSTM Graphs"
   ]
  },
  {
   "cell_type": "code",
   "execution_count": null,
   "id": "7525dd54-16ff-49b6-a9e7-c062ddf170f4",
   "metadata": {},
   "outputs": [],
   "source": [
    "y_true, y_pred = y_true_full,predicted_frames\n",
    "\n",
    "y_true[coord]=np.nan\n",
    "y_pred[coord]=np.nan\n",
    "\n",
    "res = y_true[:,1:2]-y_pred[:,1:2]\n",
    "\n",
    "print(res.shape)\n",
    "\n",
    "avg_time_res_convlstm=np.nanmean(res, axis=(1,2,3))\n",
    "print(avg_time_res_convlstm.shape)\n",
    "\n",
    "fig = pyplot.figure(figsize = (10,10))\n",
    "pyplot.subplot(211)\n",
    "plot_acf(avg_time_res_convlstm, ax=pyplot.gca())\n",
    "pyplot.subplot(212)\n",
    "plot_pacf(avg_time_res_convlstm, ax=pyplot.gca())\n",
    "\n",
    "fig.suptitle(\"Residual ACF & PACF for ConvLSTM - MPI\")\n",
    "\n",
    "plt.savefig(\"../../assets/figur7_convLSTM_mpi_acf_3mon.jpg\")\n",
    "pyplot.show()"
   ]
  },
  {
   "cell_type": "code",
   "execution_count": null,
   "id": "08058c06-c878-46e0-bfc4-a6edd8732f52",
   "metadata": {},
   "outputs": [],
   "source": [
    "# ConvLSTM average Image\n",
    "import cmocean as cm\n",
    "import matplotlib.colors as mcolors\n",
    "from mpl_toolkits.axes_grid1 import make_axes_locatable\n",
    "\n",
    "predicted_frames[coord] = np.nan\n",
    "y_true_full[coord] = np.nan\n",
    "avg_y_pred = np.mean(predicted_frames[:,1:2],axis=0)\n",
    "avg_y_true = np.mean(y_true_full[:,1:2],axis=0)\n",
    "\n",
    "res = y_true_full[:,1:2]-predicted_frames[:,1:2]\n",
    "avg_res = np.mean(res,axis=0)\n",
    "figure, axis = plt.subplots(1, 3,figsize=(42, 8))\n",
    "\n",
    "plt.rcParams.update({'font.size': 22})\n",
    "norm = mcolors.Normalize(vmin=280, vmax = 440)\n",
    "norm2 = mcolors.TwoSlopeNorm(vmin=-100, vmax = 100, vcenter=0)\n",
    "\n",
    "im0 = axis[0].imshow(np.flipud(avg_y_true[0]),cmap = cm.cm.thermal,norm=norm,label=\"pCO2\")\n",
    "axis[0].set_title(\"Avg. pCO2\")\n",
    "\n",
    "divider = make_axes_locatable(axis[0])\n",
    "cax = divider.append_axes('right', size='5%', pad=0.3)\n",
    "cbar=figure.colorbar(im0, cax=cax, orientation='vertical')\n",
    "cbar.ax.get_yaxis().labelpad = 20\n",
    "cbar.ax.set_ylabel('pCO2', rotation=270)\n",
    "cbar.set_ticklabels(np.arange(280,440,20))\n",
    "\n",
    "im1 =axis[1].imshow(np.flipud(avg_y_pred[0]),cmap = cm.cm.thermal,norm=norm,label=\"pCO2 pred\")\n",
    "axis[1].set_title(\"Avg. ConvLSTM Prediction\")\n",
    "\n",
    "divider = make_axes_locatable(axis[1])\n",
    "cax = divider.append_axes('right', size='5%', pad=0.3)\n",
    "cbar2=figure.colorbar(im1, cax=cax, orientation='vertical')\n",
    "cbar2.ax.get_yaxis().labelpad = 20\n",
    "cbar2.ax.set_ylabel('pred', rotation=270)\n",
    "cbar2.set_ticklabels(np.arange(280,440,20))\n",
    "\n",
    "im2=axis[2].imshow(np.flipud(avg_res[0]),cmap = \"RdBu\",norm=norm2,label=\"residual\")\n",
    "axis[2].set_title(\"Avg. Residual\")\n",
    "\n",
    "divider = make_axes_locatable(axis[2])\n",
    "cax = divider.append_axes('right', size='5%', pad=0.3)\n",
    "cbar3=figure.colorbar(im2, cax=cax, orientation='vertical')\n",
    "cbar3.ax.get_yaxis().labelpad = 20\n",
    "cbar3.ax.set_ylabel('residual', rotation=270)\n",
    "#cbar3.set_ticklabels(np.arange(-100,100,20))\n",
    "               \n",
    "figure.suptitle(\"Average CONVLSTM MPI Transfer Learning pCO2 | Prediction | Residual - over 1987/02-2017/01\")\n",
    "\n",
    "plt.savefig(\"../../assets/figure6.0_convlstm_mpi.jpg\")"
   ]
  },
  {
   "cell_type": "code",
   "execution_count": null,
   "id": "f768296d-46b8-4076-9b60-ffe35dea9f45",
   "metadata": {},
   "outputs": [],
   "source": []
  }
 ],
 "metadata": {
  "kernelspec": {
   "display_name": "tf",
   "language": "python",
   "name": "tf"
  },
  "language_info": {
   "codemirror_mode": {
    "name": "ipython",
    "version": 3
   },
   "file_extension": ".py",
   "mimetype": "text/x-python",
   "name": "python",
   "nbconvert_exporter": "python",
   "pygments_lexer": "ipython3",
   "version": "3.8.19"
  }
 },
 "nbformat": 4,
 "nbformat_minor": 5
}
