{
 "cells": [
  {
   "cell_type": "markdown",
   "id": "012f80e3-065f-4481-8b61-0b16c778386f",
   "metadata": {},
   "source": [
    "## generate previous frames with pCO2 and fit it against ConvLSTM for different CESM members (Transfer Learning)"
   ]
  },
  {
   "cell_type": "code",
   "execution_count": 1,
   "id": "c7c497b4-9499-4832-aed7-d1c3b9d4b5e9",
   "metadata": {},
   "outputs": [
    {
     "name": "stderr",
     "output_type": "stream",
     "text": [
      "/burg/glab/users/jn2808/ocean_co2/env/lib/python3.8/site-packages/xarray/backends/cfgrib_.py:27: UserWarning: Failed to load cfgrib - most likely there is a problem accessing the ecCodes library. Try `import cfgrib` to get the full error message\n",
      "  warnings.warn(\n",
      "2024-07-10 15:56:59.196955: W tensorflow/stream_executor/platform/default/dso_loader.cc:60] Could not load dynamic library 'libcudart.so.11.0'; dlerror: libcudart.so.11.0: cannot open shared object file: No such file or directory; LD_LIBRARY_PATH: /cm/shared/apps/slurm/current/lib64/slurm:/cm/shared/apps/slurm/current/lib64\n",
      "2024-07-10 15:56:59.196982: I tensorflow/stream_executor/cuda/cudart_stub.cc:29] Ignore above cudart dlerror if you do not have a GPU set up on your machine.\n"
     ]
    }
   ],
   "source": [
    "import matplotlib.pyplot as plt\n",
    "import numpy as np\n",
    "import pandas as pd\n",
    "import xarray as xr\n",
    "import sys\n",
    "import tensorflow as tf\n",
    "from tensorflow import keras\n",
    "import os\n",
    "\n",
    "sys.path.insert(0, '../../src')\n",
    "\n",
    "from utils import df_to_xarray,read_xarray, custom_rmse\n",
    "\n",
    "sys.path.insert(0, '../../src/preprocess')\n",
    "from data_preprocess import preprocess_image_reduced,preprocess_images_nfp, inverse_scale_frame\n",
    "from data_preprocess import preprocess_images, inverse_scale_image, preprocess_image_reduced"
   ]
  },
  {
   "cell_type": "markdown",
   "id": "4a7ea67d-8bc2-422f-8c39-0de87dd0ed5c",
   "metadata": {},
   "source": [
    "### Previous Frame generation"
   ]
  },
  {
   "cell_type": "code",
   "execution_count": 2,
   "id": "8115c973-ef73-46a6-b8b7-9142c659c03f",
   "metadata": {},
   "outputs": [],
   "source": [
    "dist_map = pd.read_csv(\"../../src/dist_map.csv\",header=None).to_numpy()\n",
    "dist_map = np.roll(np.fliplr(dist_map),180)\n",
    "dist_map = np.repeat(dist_map[np.newaxis, :, : ], 421, axis=0)\n",
    "\n",
    "def custom_rmse2(y_true, y_pred):\n",
    "    \"\"\"\n",
    "    custom_rmse(y_true, y_pred)\n",
    "    calculates root square mean value with focusing only on the ocean\n",
    "    + difference between sss\n",
    "    \"\"\"\n",
    "    idx  = tf.not_equal(y_true, 0.0)\n",
    "    idx2  = tf.equal(y_true, 0.0)\n",
    "    \n",
    "    y_pred1 = tf.boolean_mask(y_pred,idx)\n",
    "    y_true1 = tf.boolean_mask(y_true,idx)\n",
    "    y_true1 = tf.cast(y_true1, y_pred.dtype)\n",
    "    \n",
    "    rmse1 = K.sqrt(K.mean(tf.math.squared_difference(y_pred1, y_true1),axis= -1))\n",
    "    \n",
    "    #y_pred2 = tf.boolean_mask(y_pred,idx2)\n",
    "    #loss2 = 10*(K.var(y_true1)/K.var(y_pred2))\n",
    "    #loss2 = tf.cast(loss2, y_pred.dtype)\n",
    "    \n",
    "    return rmse1\n"
   ]
  },
  {
   "cell_type": "code",
   "execution_count": 3,
   "id": "31a572ea-5c8a-4062-ad05-0d655167249a",
   "metadata": {},
   "outputs": [
    {
     "name": "stderr",
     "output_type": "stream",
     "text": [
      "/burg/glab/users/jn2808/ocean_co2/env/lib/python3.8/site-packages/xarray/backends/plugins.py:61: RuntimeWarning: Engine 'cfgrib' loading failed:\n",
      "Cannot find the ecCodes library\n",
      "  warnings.warn(f\"Engine {name!r} loading failed:\\n{ex}\", RuntimeWarning)\n"
     ]
    }
   ],
   "source": [
    "# Reading Data\n",
    "dir = \"../../data/\"\n",
    "dir_name = \"../../data/member_001\"\n",
    "data_nums = [\"034\"]\n",
    "\n",
    "\n",
    "# data_nums = [\"001\", \"002\", \"009\", \"010\", \"011\", \"012\", \"013\", \"014\", \"015\", \"016\", \"017\", \"018\", \"020\",\n",
    "#              \"021\", \"023\", \"024\", \"025\", \"030\", \"031\", \"034\", \"035\", \"101\", \"102\", \"103\", \"104\"]\n",
    "\n",
    "X_all = np.empty((0, 180, 360, 5))\n",
    "y_all = np.empty((0, 180, 360))\n",
    "\n",
    "for i in range(1):\n",
    "    dir_name = dir + \"member_\" + str(data_nums[i])\n",
    "    chl,mld,sss,sst,u10,xco2,icefrac,patm,pco2 = read_xarray(dir_name,num =data_nums[i])\n",
    "    \n",
    "    chl_images = preprocess_image_reduced(chl.Chl.data)\n",
    "    sss_images = preprocess_image_reduced(sss.SSS.data)\n",
    "    sst_images = preprocess_image_reduced(sst.SST.data)\n",
    "    mld_images = preprocess_image_reduced(mld.MLD.data)\n",
    "    xco2_images = preprocess_image_reduced(xco2.XCO2.data,xco2=True)\n",
    "    y1 = preprocess_image_reduced(pco2.pCO2.data)\n",
    "    dist_map = preprocess_image_reduced(dist_map)\n",
    "    X1 = np.dstack((chl_images, dist_map, sss_images, sst_images, xco2_images))\n",
    "    #X1 = np.dstack((chl_images, mld_images, sss_images, sst_images, xco2_images))\n",
    "    X1 = X1.reshape((421,180,360,5),order='F')\n",
    "    \n",
    "    X_all = np.concatenate((X_all, X1))\n",
    "    y_all = np.concatenate((y_all, y1))\n"
   ]
  },
  {
   "cell_type": "code",
   "execution_count": 4,
   "id": "e231214a-a785-4872-8145-610401a04b12",
   "metadata": {},
   "outputs": [
    {
     "data": {
      "text/plain": [
       "((180, 360, 5), (421, 180, 360, 5), (421, 180, 360))"
      ]
     },
     "execution_count": 4,
     "metadata": {},
     "output_type": "execute_result"
    }
   ],
   "source": [
    "INPUT_SHAPE=X_all[0].shape\n",
    "OUTPUT_SHAPE=y_all[0].shape\n",
    "\n",
    "INPUT_SHAPE, X_all.shape, y_all.shape"
   ]
  },
  {
   "cell_type": "code",
   "execution_count": 5,
   "id": "7e8ce0bf-2eba-4951-8d10-4d0e6892b2a0",
   "metadata": {},
   "outputs": [
    {
     "name": "stderr",
     "output_type": "stream",
     "text": [
      "2024-07-10 15:57:17.956626: I tensorflow/compiler/jit/xla_cpu_device.cc:41] Not creating XLA devices, tf_xla_enable_xla_devices not set\n",
      "2024-07-10 15:57:17.967108: I tensorflow/stream_executor/platform/default/dso_loader.cc:49] Successfully opened dynamic library libcuda.so.1\n",
      "2024-07-10 15:57:17.989444: I tensorflow/core/common_runtime/gpu/gpu_device.cc:1720] Found device 0 with properties: \n",
      "pciBusID: 0000:3b:00.0 name: Quadro RTX 8000 computeCapability: 7.5\n",
      "coreClock: 1.62GHz coreCount: 72 deviceMemorySize: 44.48GiB deviceMemoryBandwidth: 581.23GiB/s\n",
      "2024-07-10 15:57:17.990137: W tensorflow/stream_executor/platform/default/dso_loader.cc:60] Could not load dynamic library 'libcudart.so.11.0'; dlerror: libcudart.so.11.0: cannot open shared object file: No such file or directory; LD_LIBRARY_PATH: /cm/shared/apps/slurm/current/lib64/slurm:/cm/shared/apps/slurm/current/lib64\n",
      "2024-07-10 15:57:17.990741: W tensorflow/stream_executor/platform/default/dso_loader.cc:60] Could not load dynamic library 'libcublas.so.11'; dlerror: libcublas.so.11: cannot open shared object file: No such file or directory; LD_LIBRARY_PATH: /cm/shared/apps/slurm/current/lib64/slurm:/cm/shared/apps/slurm/current/lib64\n",
      "2024-07-10 15:57:17.991278: W tensorflow/stream_executor/platform/default/dso_loader.cc:60] Could not load dynamic library 'libcublasLt.so.11'; dlerror: libcublasLt.so.11: cannot open shared object file: No such file or directory; LD_LIBRARY_PATH: /cm/shared/apps/slurm/current/lib64/slurm:/cm/shared/apps/slurm/current/lib64\n",
      "2024-07-10 15:57:17.991793: W tensorflow/stream_executor/platform/default/dso_loader.cc:60] Could not load dynamic library 'libcufft.so.10'; dlerror: libcufft.so.10: cannot open shared object file: No such file or directory; LD_LIBRARY_PATH: /cm/shared/apps/slurm/current/lib64/slurm:/cm/shared/apps/slurm/current/lib64\n",
      "2024-07-10 15:57:17.992332: W tensorflow/stream_executor/platform/default/dso_loader.cc:60] Could not load dynamic library 'libcurand.so.10'; dlerror: libcurand.so.10: cannot open shared object file: No such file or directory; LD_LIBRARY_PATH: /cm/shared/apps/slurm/current/lib64/slurm:/cm/shared/apps/slurm/current/lib64\n",
      "2024-07-10 15:57:17.992853: W tensorflow/stream_executor/platform/default/dso_loader.cc:60] Could not load dynamic library 'libcusolver.so.10'; dlerror: libcusolver.so.10: cannot open shared object file: No such file or directory; LD_LIBRARY_PATH: /cm/shared/apps/slurm/current/lib64/slurm:/cm/shared/apps/slurm/current/lib64\n",
      "2024-07-10 15:57:17.993375: W tensorflow/stream_executor/platform/default/dso_loader.cc:60] Could not load dynamic library 'libcusparse.so.11'; dlerror: libcusparse.so.11: cannot open shared object file: No such file or directory; LD_LIBRARY_PATH: /cm/shared/apps/slurm/current/lib64/slurm:/cm/shared/apps/slurm/current/lib64\n",
      "2024-07-10 15:57:17.993914: W tensorflow/stream_executor/platform/default/dso_loader.cc:60] Could not load dynamic library 'libcudnn.so.8'; dlerror: libcudnn.so.8: cannot open shared object file: No such file or directory; LD_LIBRARY_PATH: /cm/shared/apps/slurm/current/lib64/slurm:/cm/shared/apps/slurm/current/lib64\n",
      "2024-07-10 15:57:17.993924: W tensorflow/core/common_runtime/gpu/gpu_device.cc:1757] Cannot dlopen some GPU libraries. Please make sure the missing libraries mentioned above are installed properly if you would like to use GPU. Follow the guide at https://www.tensorflow.org/install/gpu for how to download and setup the required libraries for your platform.\n",
      "Skipping registering GPU devices...\n",
      "2024-07-10 15:57:17.994374: I tensorflow/core/platform/cpu_feature_guard.cc:142] This TensorFlow binary is optimized with oneAPI Deep Neural Network Library (oneDNN) to use the following CPU instructions in performance-critical operations:  AVX512F\n",
      "To enable them in other operations, rebuild TensorFlow with the appropriate compiler flags.\n",
      "2024-07-10 15:57:17.994842: I tensorflow/compiler/jit/xla_gpu_device.cc:99] Not creating XLA devices, tf_xla_enable_xla_devices not set\n",
      "2024-07-10 15:57:17.994860: I tensorflow/core/common_runtime/gpu/gpu_device.cc:1261] Device interconnect StreamExecutor with strength 1 edge matrix:\n",
      "2024-07-10 15:57:17.994863: I tensorflow/core/common_runtime/gpu/gpu_device.cc:1267]      \n",
      "2024-07-10 15:57:18.985494: I tensorflow/compiler/mlir/mlir_graph_optimization_pass.cc:116] None of the MLIR optimization passes are enabled (registered 2)\n",
      "2024-07-10 15:57:19.029806: I tensorflow/core/platform/profile_utils/cpu_utils.cc:112] CPU Frequency: 2900000000 Hz\n"
     ]
    },
    {
     "name": "stdout",
     "output_type": "stream",
     "text": [
      "14/14 [==============================] - 10s 673ms/step\n"
     ]
    }
   ],
   "source": [
    "cnn_model = tf.keras.models.load_model('../../models/base_model/u_net_dist.h5', custom_objects={'custom_rmse':custom_rmse})\n",
    "predicted_image= cnn_model.predict(X_all,verbose=1)\n",
    "predicted_image[y_all==0]=0.0"
   ]
  },
  {
   "cell_type": "code",
   "execution_count": 6,
   "id": "9391fcdf-da2b-4d38-90df-93297fa31034",
   "metadata": {},
   "outputs": [
    {
     "name": "stdout",
     "output_type": "stream",
     "text": [
      "tf.Tensor(10.798543230301759, shape=(), dtype=float64)\n"
     ]
    }
   ],
   "source": [
    "print(custom_rmse(predicted_image,y_all))"
   ]
  },
  {
   "cell_type": "code",
   "execution_count": 7,
   "id": "5f4e04ba-ab19-4f29-b92c-69eef6b0d926",
   "metadata": {},
   "outputs": [
    {
     "name": "stdout",
     "output_type": "stream",
     "text": [
      "y_shapes: (421, 180, 360) (421, 180, 360)\n",
      "Full RMSE score:\n",
      "29.34511242646703\n"
     ]
    }
   ],
   "source": [
    "\n",
    "y_true_all = np.empty((0,180,360))\n",
    "y_pred_all = np.empty((0,180,360))\n",
    "\n",
    "\n",
    "for i in range(1):\n",
    "    tmp = i+1\n",
    "    dir_name = dir + \"member_\" + str(data_nums[i])\n",
    "    chl,mld,sss,sst,u10,xco2,icefrac,patm,pco2t2 = read_xarray(dir_name,num =data_nums[i])\n",
    "    y_true,y_pred = inverse_scale_image(predicted_image[421*(tmp-1):421*tmp],pco2t2.pCO2.data)\n",
    "    y_true_all = np.concatenate((y_true_all, y_true))\n",
    "    y_pred_all = np.concatenate((y_pred_all, y_pred))\n",
    "\n",
    "\n",
    "print(\"y_shapes:\", y_true_all.shape, y_pred_all.shape)\n",
    "print(\"Full RMSE score:\")\n",
    "a=custom_rmse(y_pred_all,y_true_all)\n",
    "print(a.numpy())\n"
   ]
  },
  {
   "cell_type": "markdown",
   "id": "508f881b-211e-410a-8431-ce8d304e538e",
   "metadata": {},
   "source": [
    "### Using the prediction as input in ConvLSTM"
   ]
  },
  {
   "cell_type": "code",
   "execution_count": 8,
   "id": "523ddf86-ab51-40c5-a699-a28f54f6d0c9",
   "metadata": {},
   "outputs": [
    {
     "data": {
      "text/plain": [
       "((418, 3, 180, 360, 6), (418, 3, 180, 360, 1))"
      ]
     },
     "execution_count": 8,
     "metadata": {},
     "output_type": "execute_result"
    }
   ],
   "source": [
    "X_all_conv = np.empty((0, 3, 180, 360, 6))\n",
    "y_all_conv = np.empty((0, 3, 180, 360, 1))\n",
    "X_index=np.lib.stride_tricks.sliding_window_view(range(421),3)\n",
    "\n",
    "tmp = 1\n",
    "\n",
    "for i in range(1):\n",
    "    dir_name = dir + \"member_\" + str(data_nums[i])\n",
    "    chl,mld,sss,sst,u10,xco2,icefrac,patm,pco2 = read_xarray(dir_name,num=data_nums[i])\n",
    "\n",
    "    chl_images = preprocess_image_reduced(chl.Chl.data)\n",
    "    sss_images = preprocess_image_reduced(sss.SSS.data)\n",
    "    sst_images = preprocess_image_reduced(sst.SST.data)\n",
    "    xco2_images = preprocess_image_reduced(xco2.XCO2.data,xco2=True)\n",
    "    pco2 = preprocess_image_reduced(pco2.pCO2.data)\n",
    "    dist_map = preprocess_image_reduced(dist_map)\n",
    "    \n",
    "    y = np.expand_dims(pco2[X_index][1:], axis=4)\n",
    "    \n",
    "    X = np.dstack((chl_images, dist_map, sss_images, sst_images, xco2_images,predicted_image[421*(tmp-1):421*tmp]))\n",
    "    tmp+=1\n",
    "    X = X.reshape((421,180,360,6),order='F')\n",
    "    X = X[X_index][:-1]\n",
    "    \n",
    "    X_all_conv = np.concatenate((X_all_conv, X))\n",
    "    y_all_conv = np.concatenate((y_all_conv, y))\n",
    "\n",
    "\n",
    "shuffle_ind = (np.arange(X_all_conv.shape[0]))\n",
    "np.random.shuffle(shuffle_ind)\n",
    "X_all_conv = np.array(X_all_conv)[shuffle_ind.astype(int)]\n",
    "y_all_conv = np.array(y_all_conv)[shuffle_ind.astype(int)]\n",
    "\n",
    "X_all_conv.shape, y_all_conv.shape"
   ]
  },
  {
   "cell_type": "code",
   "execution_count": 9,
   "id": "ee5ad845-5342-46c1-8bec-500e0463b85f",
   "metadata": {},
   "outputs": [
    {
     "data": {
      "text/plain": [
       "(3, 180, 360, 6)"
      ]
     },
     "execution_count": 9,
     "metadata": {},
     "output_type": "execute_result"
    }
   ],
   "source": [
    "INPUT_SHAPE=X_all_conv[0].shape\n",
    "OUTPUT_SHAPE=y_all_conv[0].shape\n",
    "\n",
    "INPUT_SHAPE"
   ]
  },
  {
   "cell_type": "code",
   "execution_count": 10,
   "id": "dd866877-2919-4ebc-a813-133f55db72ff",
   "metadata": {},
   "outputs": [
    {
     "data": {
      "text/plain": [
       "<matplotlib.image.AxesImage at 0x1554a2d7c340>"
      ]
     },
     "execution_count": 10,
     "metadata": {},
     "output_type": "execute_result"
    },
    {
     "data": {
      "image/png": "[encoded data removed]",
      "text/plain": [
       "<Figure size 432x288 with 1 Axes>"
      ]
     },
     "metadata": {
      "needs_background": "light"
     },
     "output_type": "display_data"
    }
   ],
   "source": [
    "coord = (y_all_conv==0.0)\n",
    "plt.imshow(coord[0][0])"
   ]
  },
  {
   "cell_type": "code",
   "execution_count": 11,
   "id": "b9f52c67-4db3-4db4-b93e-83d1918f894a",
   "metadata": {},
   "outputs": [],
   "source": [
    "# the masking continents for continent works better for pretrained model"
   ]
  },
  {
   "cell_type": "code",
   "execution_count": 14,
   "id": "99f02c72-0b5a-4cd8-834f-42d226203369",
   "metadata": {},
   "outputs": [
    {
     "name": "stdout",
     "output_type": "stream",
     "text": [
      "14/14 [==============================] - 92s 6s/step\n"
     ]
    },
    {
     "data": {
      "text/plain": [
       "(418, 3, 180, 360, 1)"
      ]
     },
     "execution_count": 14,
     "metadata": {},
     "output_type": "execute_result"
    }
   ],
   "source": [
    "model_path=\"../../models/ConvLSTM_with_pco2_3mon.h5\"\n",
    "convlstm_model = tf.keras.models.load_model(model_path, custom_objects={'custom_rmse':custom_rmse})\n",
    "\n",
    "data,pco2 = preprocess_images_nfp(dir_name,\"034\")\n",
    "\n",
    "X_index=np.lib.stride_tricks.sliding_window_view(range(421),3) \n",
    "X=data[X_index][:-1]\n",
    "\n",
    "predicted_frames=convlstm_model.predict(X,verbose=1)\n",
    "predicted_frames[coord] = 0\n",
    "\n",
    "chl,mld,sss,sst,u10,xco2,icefrac,patm,pco2t2 = read_xarray(dir_name,\"034\")\n",
    "\n",
    "tmp = np.nan_to_num(pco2t2.pCO2.data[X_index][1:])\n",
    "y_true_full = np.expand_dims(tmp,axis=4)\n",
    "y_true_full.shape"
   ]
  },
  {
   "cell_type": "code",
   "execution_count": 15,
   "id": "856eff83-f2d7-46a1-bfaf-1884a0e38378",
   "metadata": {},
   "outputs": [
    {
     "name": "stdout",
     "output_type": "stream",
     "text": [
      "tf.Tensor(261.33934624942077, shape=(), dtype=float64)\n"
     ]
    }
   ],
   "source": [
    "a=custom_rmse(predicted_frames,y_true_full)\n",
    "print(a)"
   ]
  },
  {
   "cell_type": "markdown",
   "id": "9309a5a0-d371-4604-ba70-6a7a512b5714",
   "metadata": {},
   "source": [
    "### Transfer Learning"
   ]
  },
  {
   "cell_type": "code",
   "execution_count": 16,
   "id": "4ad2844b-83e3-46b4-8391-aefc225c85ca",
   "metadata": {},
   "outputs": [
    {
     "name": "stdout",
     "output_type": "stream",
     "text": [
      "Model: \"sequential\"\n",
      "_________________________________________________________________\n",
      "Layer (type)                 Output Shape              Param #   \n",
      "=================================================================\n",
      "conv_lst_m2d (ConvLSTM2D)    (None, 3, 180, 360, 32)   121728    \n",
      "_________________________________________________________________\n",
      "conv_lst_m2d_1 (ConvLSTM2D)  (None, 3, 180, 360, 32)   131200    \n",
      "_________________________________________________________________\n",
      "batch_normalization (BatchNo (None, 3, 180, 360, 32)   128       \n",
      "_________________________________________________________________\n",
      "conv_lst_m2d_2 (ConvLSTM2D)  (None, 3, 180, 360, 32)   32896     \n",
      "_________________________________________________________________\n",
      "conv3d (Conv3D)              (None, 3, 180, 360, 1)    865       \n",
      "=================================================================\n",
      "Total params: 286,817\n",
      "Trainable params: 33,761\n",
      "Non-trainable params: 253,056\n",
      "_________________________________________________________________\n"
     ]
    }
   ],
   "source": [
    "for layer in convlstm_model.layers[:-2]:\n",
    "    layer.trainable = False\n",
    "\n",
    "convlstm_model.summary()"
   ]
  },
  {
   "cell_type": "code",
   "execution_count": 17,
   "id": "20b1b52f-a754-4611-9727-b27d8dfc4909",
   "metadata": {},
   "outputs": [],
   "source": [
    "model_path=\"../../models/transfer_CNN_LSTM.h5\""
   ]
  },
  {
   "cell_type": "code",
   "execution_count": 19,
   "id": "5cd4f100-681e-49ba-89e5-e05b24885da9",
   "metadata": {},
   "outputs": [],
   "source": [
    "convlstm_model.compile(\n",
    "    loss=custom_rmse, optimizer=keras.optimizers.Adam(learning_rate=1e-3),\n",
    ")\n",
    "\n",
    "early_stopings = tf.keras.callbacks.EarlyStopping(monitor='val_loss', min_delta=0, patience=3, verbose=1, mode='min')\n",
    "checkpoint =  tf.keras.callbacks.ModelCheckpoint(model_path, monitor='val_loss', save_best_only=True, mode='min', verbose=0)\n",
    "callbacks=[early_stopings,checkpoint]\n",
    "epochs = 5\n",
    "batch_size = 16"
   ]
  },
  {
   "cell_type": "code",
   "execution_count": 20,
   "id": "3f08fbf4-65e5-47f2-83ff-d4654530b0e7",
   "metadata": {},
   "outputs": [],
   "source": [
    "# Training...\n",
    "\n",
    "# history = convlstm_model.fit(\n",
    "#     X_all_conv,\n",
    "#     y_all_conv,\n",
    "#     batch_size=batch_size,\n",
    "#     epochs=epochs,\n",
    "#     validation_data=(X_all_conv, y_all_conv),\n",
    "#     callbacks=callbacks,\n",
    "# )"
   ]
  },
  {
   "cell_type": "code",
   "execution_count": 21,
   "id": "3cb9691f-6794-4f53-bf8c-c877fd0204ba",
   "metadata": {},
   "outputs": [
    {
     "name": "stdout",
     "output_type": "stream",
     "text": [
      "14/14 [==============================] - 130s 9s/step\n"
     ]
    },
    {
     "data": {
      "text/plain": [
       "(418, 3, 180, 360, 1)"
      ]
     },
     "execution_count": 21,
     "metadata": {},
     "output_type": "execute_result"
    }
   ],
   "source": [
    "tf_model = tf.keras.models.load_model(model_path, custom_objects={'custom_rmse':custom_rmse})\n",
    "\n",
    "data,pco2 = preprocess_images_nfp(dir_name,\"034\")\n",
    "\n",
    "X_index=np.lib.stride_tricks.sliding_window_view(range(421),3) \n",
    "X=data[X_index][:-1]\n",
    "\n",
    "predicted_frames=tf_model.predict(X,verbose=1)\n",
    "predicted_frames[coord] = 0\n",
    "\n",
    "chl,mld,sss,sst,u10,xco2,icefrac,patm,pco2t2 = read_xarray(dir_name,\"034\")\n",
    "\n",
    "tmp = np.nan_to_num(pco2t2.pCO2.data[X_index][:-1])\n",
    "y_true_full = np.expand_dims(tmp,axis=4)\n",
    "y_true_full.shape"
   ]
  },
  {
   "cell_type": "code",
   "execution_count": 22,
   "id": "133de302-a8bb-4fce-a804-1abfdec7f9d1",
   "metadata": {},
   "outputs": [
    {
     "name": "stdout",
     "output_type": "stream",
     "text": [
      "Full RMSE score:\n",
      "tf.Tensor(181.41786098713152, shape=(), dtype=float64)\n"
     ]
    }
   ],
   "source": [
    "print(\"Full RMSE score:\")\n",
    "a=custom_rmse(predicted_frames, y_true_full)\n",
    "print(a)"
   ]
  },
  {
   "cell_type": "code",
   "execution_count": 88,
   "id": "0241345d-6ac1-4162-b361-5217df03e5f9",
   "metadata": {},
   "outputs": [],
   "source": [
    "# gif generation for conv-lstm\n",
    "import matplotlib.colors as mcolors\n",
    "import imageio\n",
    "\n",
    "norm = mcolors.Normalize(vmin=0, vmax = 750)\n",
    "norm2 = mcolors.TwoSlopeNorm(vmin=-500, vmax = 500, vcenter=0)\n",
    "\n",
    "\n",
    "filenames = []\n",
    "\n",
    "for i in range(418):\n",
    "    figure, axis = plt.subplots(1, 3,figsize=(18, 10))\n",
    "    \n",
    "    img=axis[0].imshow(np.flipud(predicted_frames[i,1:2][0]),cmap=\"coolwarm\", interpolation=\"nearest\", norm=norm)\n",
    "    axis[0].set_title(\"prediction\")\n",
    "    plt.colorbar(img,ax=axis)\n",
    "\n",
    "    img1=axis[1].imshow(np.flipud(y_true_full[i,1:2][0]),cmap=\"coolwarm\", interpolation=\"nearest\",norm=norm)\n",
    "    axis[1].set_title(\"true\")\n",
    "\n",
    "    img2=axis[2].imshow(np.flipud(y_true_full[i,1:2][0]-(predicted_frames[i,1:2][0])),cmap=\"RdBu\", norm=norm2)\n",
    "    axis[2].set_title(\"residual\")\n",
    "    plt.colorbar(img2,ax=axis)\n",
    "    \n",
    "    text = \"rmse: \"+str(np.round(np.sqrt(np.mean((y_true_full[i,1:2][0]-predicted_frames[i,1:2][0])**2)),2))\n",
    "    plt.text(-60, -60, text, fontsize = 20)\n",
    "    \n",
    "    filename = f'{i}.png'\n",
    "    filenames.append(filename)\n",
    "    \n",
    "    # save frame\n",
    "    plt.savefig(filename)\n",
    "    plt.close()\n",
    "\n",
    "\n",
    "with imageio.get_writer('../../assets/convlstm_cesm_2.gif', mode='I') as writer:\n",
    "    for filename in filenames:\n",
    "        image = imageio.imread(filename)\n",
    "        writer.append_data(image)\n",
    "        \n",
    "# Remove files\n",
    "for filename in set(filenames):\n",
    "    os.remove(filename)\n",
    "\n"
   ]
  },
  {
   "cell_type": "code",
   "execution_count": 89,
   "id": "b73df74f-3f55-4c6c-97a9-6b552d56b29d",
   "metadata": {},
   "outputs": [],
   "source": [
    "def inverse_scale_frame_socat(arr,df, X_index=[]):\n",
    "    \"\"\"\n",
    "    inverse_scale_frame(arr, df):\n",
    "    - inverses the pco2 scaling\n",
    "    \"\"\"\n",
    "    old_min = 0\n",
    "    df_tmp = df[df!=0.0]\n",
    "    old_max = np.nanmax(df_tmp)\n",
    "    y_pred = arr*(old_max-old_min)/255+old_min\n",
    "    tmp=np.nan_to_num(df[X_index][1:])\n",
    "    y_true=np.expand_dims(tmp,axis=4)\n",
    "    y_pred[y_true==0]=0\n",
    "    return y_true,y_pred\n",
    "\n"
   ]
  },
  {
   "cell_type": "code",
   "execution_count": null,
   "id": "a7abf78d-71a3-4429-b983-a6c7589391dc",
   "metadata": {},
   "outputs": [],
   "source": []
  }
 ],
 "metadata": {
  "kernelspec": {
   "display_name": "tf",
   "language": "python",
   "name": "tf"
  },
  "language_info": {
   "codemirror_mode": {
    "name": "ipython",
    "version": 3
   },
   "file_extension": ".py",
   "mimetype": "text/x-python",
   "name": "python",
   "nbconvert_exporter": "python",
   "pygments_lexer": "ipython3",
   "version": "3.8.19"
  }
 },
 "nbformat": 4,
 "nbformat_minor": 5
}
